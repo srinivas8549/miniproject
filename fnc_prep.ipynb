{
 "cells": [
  {
   "cell_type": "markdown",
   "metadata": {},
   "source": [
    "## Importing Libraries,Dataset"
   ]
  },
  {
   "cell_type": "code",
   "execution_count": 2,
   "metadata": {},
   "outputs": [
    {
     "name": "stderr",
     "output_type": "stream",
     "text": [
      "[nltk_data] Downloading package stopwords to\n",
      "[nltk_data]     C:\\Users\\seshi\\AppData\\Roaming\\nltk_data...\n",
      "[nltk_data]   Package stopwords is already up-to-date!\n"
     ]
    }
   ],
   "source": [
    "import nltk\n",
    "nltk.download('stopwords')\n",
    "import pandas as pd\n",
    "import numpy as np\n",
    "import matplotlib.pyplot as plt"
   ]
  },
  {
   "cell_type": "code",
   "execution_count": 3,
   "metadata": {
    "id": "SCsqjRkbCtb4"
   },
   "outputs": [],
   "source": [
    "train_bodies=pd.read_csv('train_bodies.csv')\n",
    "train_stances=pd.read_csv('train_stances.csv')"
   ]
  },
  {
   "cell_type": "code",
   "execution_count": 4,
   "metadata": {
    "id": "FGRChnzAC0yc"
   },
   "outputs": [],
   "source": [
    "train_data=pd.merge(train_bodies,train_stances,how='left',on='Body ID')"
   ]
  },
  {
   "cell_type": "code",
   "execution_count": 5,
   "metadata": {
    "id": "gtPrr48hC5gt"
   },
   "outputs": [],
   "source": [
    "test_stance = pd.read_csv('competition_test_stances.csv')\n",
    "test_body = pd.read_csv('test_bodies.csv')"
   ]
  },
  {
   "cell_type": "code",
   "execution_count": 6,
   "metadata": {
    "id": "0G2BNjsHC8Pw"
   },
   "outputs": [],
   "source": [
    "test_data  = pd.merge( test_body, test_stance,how='left', on='Body ID')"
   ]
  },
  {
   "cell_type": "code",
   "execution_count": 7,
   "metadata": {
    "id": "Te8gmJWLDA-t"
   },
   "outputs": [],
   "source": [
    "target={'unrelated':0, 'agree':1, 'discuss':2, 'disagree':3}\n",
    "train_data['Stance']=train_data['Stance'].map(target)"
   ]
  },
  {
   "cell_type": "code",
   "execution_count": 8,
   "metadata": {
    "colab": {
     "base_uri": "https://localhost:8080/",
     "height": 423
    },
    "id": "SqE0nDpWDzWK",
    "outputId": "8d758471-1a0f-4c9c-e914-16dd28ecc35b"
   },
   "outputs": [
    {
     "data": {
      "text/html": [
       "<div>\n",
       "<style scoped>\n",
       "    .dataframe tbody tr th:only-of-type {\n",
       "        vertical-align: middle;\n",
       "    }\n",
       "\n",
       "    .dataframe tbody tr th {\n",
       "        vertical-align: top;\n",
       "    }\n",
       "\n",
       "    .dataframe thead th {\n",
       "        text-align: right;\n",
       "    }\n",
       "</style>\n",
       "<table border=\"1\" class=\"dataframe\">\n",
       "  <thead>\n",
       "    <tr style=\"text-align: right;\">\n",
       "      <th></th>\n",
       "      <th>Body ID</th>\n",
       "      <th>articleBody</th>\n",
       "      <th>Headline</th>\n",
       "      <th>Stance</th>\n",
       "    </tr>\n",
       "  </thead>\n",
       "  <tbody>\n",
       "    <tr>\n",
       "      <th>0</th>\n",
       "      <td>0</td>\n",
       "      <td>A small meteorite crashed into a wooded area i...</td>\n",
       "      <td>Soldier shot, Parliament locked down after gun...</td>\n",
       "      <td>0</td>\n",
       "    </tr>\n",
       "    <tr>\n",
       "      <th>1</th>\n",
       "      <td>0</td>\n",
       "      <td>A small meteorite crashed into a wooded area i...</td>\n",
       "      <td>Tourist dubbed ‘Spider Man’ after spider burro...</td>\n",
       "      <td>0</td>\n",
       "    </tr>\n",
       "    <tr>\n",
       "      <th>2</th>\n",
       "      <td>0</td>\n",
       "      <td>A small meteorite crashed into a wooded area i...</td>\n",
       "      <td>Luke Somers 'killed in failed rescue attempt i...</td>\n",
       "      <td>0</td>\n",
       "    </tr>\n",
       "    <tr>\n",
       "      <th>3</th>\n",
       "      <td>0</td>\n",
       "      <td>A small meteorite crashed into a wooded area i...</td>\n",
       "      <td>BREAKING: Soldier shot at War Memorial in Ottawa</td>\n",
       "      <td>0</td>\n",
       "    </tr>\n",
       "    <tr>\n",
       "      <th>4</th>\n",
       "      <td>0</td>\n",
       "      <td>A small meteorite crashed into a wooded area i...</td>\n",
       "      <td>Giant 8ft 9in catfish weighing 19 stone caught...</td>\n",
       "      <td>0</td>\n",
       "    </tr>\n",
       "    <tr>\n",
       "      <th>...</th>\n",
       "      <td>...</td>\n",
       "      <td>...</td>\n",
       "      <td>...</td>\n",
       "      <td>...</td>\n",
       "    </tr>\n",
       "    <tr>\n",
       "      <th>49967</th>\n",
       "      <td>2532</td>\n",
       "      <td>ANN ARBOR, Mich. – A pizza delivery man in Mic...</td>\n",
       "      <td>Pizza delivery man gets tipped more than $2,00...</td>\n",
       "      <td>1</td>\n",
       "    </tr>\n",
       "    <tr>\n",
       "      <th>49968</th>\n",
       "      <td>2532</td>\n",
       "      <td>ANN ARBOR, Mich. – A pizza delivery man in Mic...</td>\n",
       "      <td>Pizza delivery man gets $2,000 tip</td>\n",
       "      <td>1</td>\n",
       "    </tr>\n",
       "    <tr>\n",
       "      <th>49969</th>\n",
       "      <td>2532</td>\n",
       "      <td>ANN ARBOR, Mich. – A pizza delivery man in Mic...</td>\n",
       "      <td>Luckiest Pizza Delivery Guy Ever Gets $2,000 Tip</td>\n",
       "      <td>1</td>\n",
       "    </tr>\n",
       "    <tr>\n",
       "      <th>49970</th>\n",
       "      <td>2532</td>\n",
       "      <td>ANN ARBOR, Mich. – A pizza delivery man in Mic...</td>\n",
       "      <td>Ann Arbor pizza delivery driver surprised with...</td>\n",
       "      <td>1</td>\n",
       "    </tr>\n",
       "    <tr>\n",
       "      <th>49971</th>\n",
       "      <td>2532</td>\n",
       "      <td>ANN ARBOR, Mich. – A pizza delivery man in Mic...</td>\n",
       "      <td>Ann Arbor pizza delivery driver surprised with...</td>\n",
       "      <td>1</td>\n",
       "    </tr>\n",
       "  </tbody>\n",
       "</table>\n",
       "<p>49972 rows × 4 columns</p>\n",
       "</div>"
      ],
      "text/plain": [
       "       Body ID                                        articleBody  \\\n",
       "0            0  A small meteorite crashed into a wooded area i...   \n",
       "1            0  A small meteorite crashed into a wooded area i...   \n",
       "2            0  A small meteorite crashed into a wooded area i...   \n",
       "3            0  A small meteorite crashed into a wooded area i...   \n",
       "4            0  A small meteorite crashed into a wooded area i...   \n",
       "...        ...                                                ...   \n",
       "49967     2532  ANN ARBOR, Mich. – A pizza delivery man in Mic...   \n",
       "49968     2532  ANN ARBOR, Mich. – A pizza delivery man in Mic...   \n",
       "49969     2532  ANN ARBOR, Mich. – A pizza delivery man in Mic...   \n",
       "49970     2532  ANN ARBOR, Mich. – A pizza delivery man in Mic...   \n",
       "49971     2532  ANN ARBOR, Mich. – A pizza delivery man in Mic...   \n",
       "\n",
       "                                                Headline  Stance  \n",
       "0      Soldier shot, Parliament locked down after gun...       0  \n",
       "1      Tourist dubbed ‘Spider Man’ after spider burro...       0  \n",
       "2      Luke Somers 'killed in failed rescue attempt i...       0  \n",
       "3       BREAKING: Soldier shot at War Memorial in Ottawa       0  \n",
       "4      Giant 8ft 9in catfish weighing 19 stone caught...       0  \n",
       "...                                                  ...     ...  \n",
       "49967  Pizza delivery man gets tipped more than $2,00...       1  \n",
       "49968                 Pizza delivery man gets $2,000 tip       1  \n",
       "49969   Luckiest Pizza Delivery Guy Ever Gets $2,000 Tip       1  \n",
       "49970  Ann Arbor pizza delivery driver surprised with...       1  \n",
       "49971  Ann Arbor pizza delivery driver surprised with...       1  \n",
       "\n",
       "[49972 rows x 4 columns]"
      ]
     },
     "execution_count": 8,
     "metadata": {},
     "output_type": "execute_result"
    }
   ],
   "source": [
    "train_data"
   ]
  },
  {
   "cell_type": "markdown",
   "metadata": {},
   "source": [
    "## Data Preprocessing"
   ]
  },
  {
   "cell_type": "code",
   "execution_count": 9,
   "metadata": {
    "id": "ULU1RayPEZwE"
   },
   "outputs": [],
   "source": [
    "import re\n",
    "from nltk.corpus import stopwords\n",
    "from nltk.tokenize import word_tokenize\n",
    "from nltk.stem.porter import PorterStemmer\n",
    "from nltk.tokenize import word_tokenize\n",
    "import string\n",
    "stop_words=set(stopwords.words('english'))\n",
    "stemmer = PorterStemmer()\n",
    "def preprocessing(text):\n",
    "    \n",
    "    text = text.rstrip(',|.|;|:|\\'|\\\"')\n",
    "    text = text.lstrip('\\'|\\\"')\n",
    "    #remove numbers\n",
    "    text=re.sub(r'\\d+','',text)\n",
    "    #punctuation removal\n",
    "    translator=str.maketrans('','',string.punctuation)\n",
    "    text=text.translate(translator)\n",
    "    text=\" \".join(text.split())\n",
    "    #stop words removal\n",
    "    word_tokens=word_tokenize(text)\n",
    "    filtered_text = [word for word in word_tokens if word not in stop_words]\n",
    "    text=\" \".join(filtered_text)\n",
    "    #stemming\n",
    "    word_tokens = word_tokenize(text)\n",
    "    stems = [stemmer.stem(word) for word in word_tokens]\n",
    "    text=\" \".join(stems)\n",
    "    #lowering the text\n",
    "    text=text.lower()\n",
    "    \n",
    "    return text"
   ]
  },
  {
   "cell_type": "code",
   "execution_count": 10,
   "metadata": {
    "id": "xs0dwav2EtCG"
   },
   "outputs": [],
   "source": [
    "train_data['new_headline']=train_data['Headline'].map(preprocessing)"
   ]
  },
  {
   "cell_type": "code",
   "execution_count": 11,
   "metadata": {
    "id": "zwzv-VbhFIc1"
   },
   "outputs": [],
   "source": [
    "train_data['new_articlebody']=train_data['articleBody'].map(preprocessing)"
   ]
  },
  {
   "cell_type": "code",
   "execution_count": 12,
   "metadata": {
    "id": "t_O3Z-V5FO_o"
   },
   "outputs": [],
   "source": [
    "test_data['new_Headline']=test_data['Headline'].map(preprocessing)\n",
    "test_data['new_articlebody']=test_data['articleBody'].map(preprocessing)"
   ]
  },
  {
   "cell_type": "code",
   "execution_count": 13,
   "metadata": {
    "id": "gVexyzJ3FSFQ"
   },
   "outputs": [],
   "source": [
    "test_data['Stance']=test_data['Stance'].map(target)"
   ]
  },
  {
   "cell_type": "code",
   "execution_count": 14,
   "metadata": {
    "id": "D6VDlgrAF0qk"
   },
   "outputs": [],
   "source": [
    "#preprocessed train data\n",
    "xtrain_prepdata=train_data[['new_headline','new_articlebody']]\n",
    "ytrain_prepdata=train_data['Stance']\n",
    "#unpreprocessed train data\n",
    "xtrain_unprepdata=train_data[['Headline','articleBody']]\n",
    "ytrain_unprepdata=train_data['Stance']\n",
    "#preprocessed text  data\n",
    "xtest_prepdata=test_data[['new_Headline','new_articlebody']]\n",
    "ytest_prepdata=test_data['Stance']\n",
    "#unpreprocessed text data\n",
    "xtest_unprepdata=test_data[['Headline','articleBody']]\n",
    "ytest_unprepdata=test_data['Stance']"
   ]
  },
  {
   "cell_type": "markdown",
   "metadata": {},
   "source": [
    "## Text to Sequence and Word Embedding"
   ]
  },
  {
   "cell_type": "code",
   "execution_count": 15,
   "metadata": {
    "id": "jg60j_d_LnVb"
   },
   "outputs": [],
   "source": [
    "from tensorflow.keras.preprocessing.text import Tokenizer\n",
    "from nltk.tokenize import word_tokenize\n",
    "X_train_prep_combined = train_data['new_headline'] + train_data['new_articlebody']\n",
    "X_train_prep_combined = pd.DataFrame(X_train_prep_combined)\n",
    "X_train_prep_combined.columns = ['combined']\n",
    "tokens1=[]\n",
    "def tokens(text):\n",
    "    tokens=word_tokenize(text)\n",
    "    tokens1.append(tokens)\n",
    "X_train_prep_combined['combined'].apply(tokens)\n",
    "tokenizer = Tokenizer(num_words=len(tokens1))\n",
    "tokenizer.fit_on_texts(X_train_prep_combined['combined'])\n",
    "words_to_index = tokenizer.word_index"
   ]
  },
  {
   "cell_type": "code",
   "execution_count": 49,
   "metadata": {
    "id": "hscuE8E9Pkip"
   },
   "outputs": [
    {
     "data": {
      "text/plain": [
       "{'’': 1,\n",
       " 'the': 2,\n",
       " 'said': 3,\n",
       " '“': 4,\n",
       " '”': 5,\n",
       " 'report': 6,\n",
       " 'i': 7,\n",
       " 'new': 8,\n",
       " 'state': 9,\n",
       " 'video': 10,\n",
       " 'one': 11,\n",
       " 'us': 12,\n",
       " 'say': 13,\n",
       " 'appl': 14,\n",
       " 'isi': 15,\n",
       " 'time': 16,\n",
       " 'it': 17,\n",
       " 'would': 18,\n",
       " 'peopl': 19,\n",
       " 'also': 20,\n",
       " 'told': 21,\n",
       " 'he': 22,\n",
       " 'islam': 23,\n",
       " 'group': 24,\n",
       " 'claim': 25,\n",
       " 'man': 26,\n",
       " 'a': 27,\n",
       " 'offici': 28,\n",
       " 'watch': 29,\n",
       " 'year': 30,\n",
       " 'could': 31,\n",
       " 'like': 32,\n",
       " 'in': 33,\n",
       " 'accord': 34,\n",
       " 'show': 35,\n",
       " 'kill': 36,\n",
       " 'use': 37,\n",
       " 'last': 38,\n",
       " 'we': 39,\n",
       " 'kim': 40,\n",
       " 'govern': 41,\n",
       " 'offic': 42,\n",
       " 'milit': 43,\n",
       " 'polic': 44,\n",
       " 'first': 45,\n",
       " 'releas': 46,\n",
       " 'name': 47,\n",
       " 'syria': 48,\n",
       " '—': 49,\n",
       " 'post': 50,\n",
       " 'foley': 51,\n",
       " 'two': 52,\n",
       " 'american': 53,\n",
       " 'stori': 54,\n",
       " 'day': 55,\n",
       " 'media': 56,\n",
       " 'confirm': 57,\n",
       " 'but': 58,\n",
       " 'come': 59,\n",
       " 'iraq': 60,\n",
       " 'make': 61,\n",
       " 'sourc': 62,\n",
       " 'shot': 63,\n",
       " 'even': 64,\n",
       " 'go': 65,\n",
       " 'may': 66,\n",
       " 'forc': 67,\n",
       " 'north': 68,\n",
       " 'appear': 69,\n",
       " 'includ': 70,\n",
       " 'week': 71,\n",
       " 'attack': 72,\n",
       " 'work': 73,\n",
       " 'citi': 74,\n",
       " 'secur': 75,\n",
       " 'get': 76,\n",
       " 'believ': 77,\n",
       " 'made': 78,\n",
       " 'month': 79,\n",
       " 'brown': 80,\n",
       " 'girl': 81,\n",
       " 'leader': 82,\n",
       " 'call': 83,\n",
       " 'sinc': 84,\n",
       " 'take': 85,\n",
       " 'news': 86,\n",
       " 'fighter': 87,\n",
       " 'journalist': 88,\n",
       " 'back': 89,\n",
       " 'famili': 90,\n",
       " 'border': 91,\n",
       " 'see': 92,\n",
       " 'world': 93,\n",
       " 'three': 94,\n",
       " 'air': 95,\n",
       " 'record': 96,\n",
       " 'thi': 97,\n",
       " 'servic': 98,\n",
       " 'follow': 99,\n",
       " 'statement': 100,\n",
       " 'obama': 101,\n",
       " 'miss': 102,\n",
       " 'haram': 103,\n",
       " 'boko': 104,\n",
       " 'public': 105,\n",
       " 'anoth': 106,\n",
       " 'is': 107,\n",
       " 'around': 108,\n",
       " 'they': 109,\n",
       " 'found': 110,\n",
       " 'still': 111,\n",
       " 'recent': 112,\n",
       " 'there': 113,\n",
       " 'live': 114,\n",
       " 'captur': 115,\n",
       " 'death': 116,\n",
       " 'mani': 117,\n",
       " 'friend': 118,\n",
       " 'mr': 119,\n",
       " '‘': 120,\n",
       " 'hous': 121,\n",
       " 'want': 122,\n",
       " 'reportedli': 123,\n",
       " 'near': 124,\n",
       " 'look': 125,\n",
       " 'militari': 126,\n",
       " 'countri': 127,\n",
       " 'shoot': 128,\n",
       " 'ad': 129,\n",
       " 'nation': 130,\n",
       " 'know': 131,\n",
       " 'sever': 132,\n",
       " 'iraqi': 133,\n",
       " 'fire': 134,\n",
       " 'howev': 135,\n",
       " 'way': 136,\n",
       " 'compani': 137,\n",
       " 'case': 138,\n",
       " 'michael': 139,\n",
       " 'behead': 140,\n",
       " 'part': 141,\n",
       " 'right': 142,\n",
       " 'ebola': 143,\n",
       " 'woman': 144,\n",
       " 'photo': 145,\n",
       " 'war': 146,\n",
       " 'comment': 147,\n",
       " 'tri': 148,\n",
       " 'ask': 149,\n",
       " '–': 150,\n",
       " 'went': 151,\n",
       " 'that': 152,\n",
       " 'job': 153,\n",
       " 'left': 154,\n",
       " 'inform': 155,\n",
       " 'investig': 156,\n",
       " 'jame': 157,\n",
       " 'life': 158,\n",
       " 'john': 159,\n",
       " 'twitter': 160,\n",
       " 'tuesday': 161,\n",
       " 'well': 162,\n",
       " 'presid': 163,\n",
       " 'start': 164,\n",
       " 'british': 165,\n",
       " 'yearold': 166,\n",
       " 'rumor': 167,\n",
       " 'known': 168,\n",
       " 'local': 169,\n",
       " 'least': 170,\n",
       " 'think': 171,\n",
       " 'town': 172,\n",
       " 'and': 173,\n",
       " 'announc': 174,\n",
       " 'site': 175,\n",
       " 'hospit': 176,\n",
       " 'member': 177,\n",
       " 'hand': 178,\n",
       " 'fight': 179,\n",
       " 'son': 180,\n",
       " 'home': 181,\n",
       " 'taken': 182,\n",
       " 'monday': 183,\n",
       " 'build': 184,\n",
       " 'kurdish': 185,\n",
       " 'on': 186,\n",
       " 'seen': 187,\n",
       " 'person': 188,\n",
       " 'korean': 189,\n",
       " 'press': 190,\n",
       " 'kidnap': 191,\n",
       " 'later': 192,\n",
       " 'arrest': 193,\n",
       " 'unit': 194,\n",
       " 'area': 195,\n",
       " 'terrorist': 196,\n",
       " 'if': 197,\n",
       " 'next': 198,\n",
       " 'continu': 199,\n",
       " 'suspect': 200,\n",
       " 'insid': 201,\n",
       " 'health': 202,\n",
       " 'oper': 203,\n",
       " 'took': 204,\n",
       " 'heard': 205,\n",
       " 'help': 206,\n",
       " 'intellig': 207,\n",
       " 'set': 208,\n",
       " 'million': 209,\n",
       " 'syrian': 210,\n",
       " 'film': 211,\n",
       " 'control': 212,\n",
       " 'place': 213,\n",
       " 'head': 214,\n",
       " 'imag': 215,\n",
       " 'identifi': 216,\n",
       " 'korea': 217,\n",
       " 'talk': 218,\n",
       " 'number': 219,\n",
       " 'happen': 220,\n",
       " 'author': 221,\n",
       " 'thing': 222,\n",
       " 'thoma': 223,\n",
       " 'cnn': 224,\n",
       " 'york': 225,\n",
       " 'messag': 226,\n",
       " 'wednesday': 227,\n",
       " 'airstrik': 228,\n",
       " 'six': 229,\n",
       " 'someth': 230,\n",
       " 'she': 231,\n",
       " 'never': 232,\n",
       " 'strike': 233,\n",
       " 'launch': 234,\n",
       " 'die': 235,\n",
       " 'weapon': 236,\n",
       " 'put': 237,\n",
       " 'night': 238,\n",
       " 'wilson': 239,\n",
       " 'pictur': 240,\n",
       " 'alleg': 241,\n",
       " 'ago': 242,\n",
       " 'thought': 243,\n",
       " 'expect': 244,\n",
       " 'stop': 245,\n",
       " 'though': 246,\n",
       " 'end': 247,\n",
       " 'move': 248,\n",
       " 'audio': 249,\n",
       " 'former': 250,\n",
       " 'student': 251,\n",
       " 'much': 252,\n",
       " 'plan': 253,\n",
       " 'today': 254,\n",
       " 'father': 255,\n",
       " 'open': 256,\n",
       " 'play': 257,\n",
       " 'turn': 258,\n",
       " 'intern': 259,\n",
       " 'fact': 260,\n",
       " 'dead': 261,\n",
       " 'possibl': 262,\n",
       " 'facebook': 263,\n",
       " 'soldier': 264,\n",
       " 'street': 265,\n",
       " 'earlier': 266,\n",
       " 'user': 267,\n",
       " 'articl': 268,\n",
       " 'websit': 269,\n",
       " 'second': 270,\n",
       " 'white': 271,\n",
       " 'hostag': 272,\n",
       " 'store': 273,\n",
       " 'order': 274,\n",
       " 'account': 275,\n",
       " 'chang': 276,\n",
       " 'social': 277,\n",
       " 'issu': 278,\n",
       " 'return': 279,\n",
       " 'onlin': 280,\n",
       " 'across': 281,\n",
       " 'held': 282,\n",
       " 'carri': 283,\n",
       " 'remain': 284,\n",
       " 'caus': 285,\n",
       " 'hit': 286,\n",
       " 'as': 287,\n",
       " 'share': 288,\n",
       " 'god': 289,\n",
       " 'daili': 290,\n",
       " 'find': 291,\n",
       " 'spokesman': 292,\n",
       " 'offer': 293,\n",
       " 'point': 294,\n",
       " 'long': 295,\n",
       " 'need': 296,\n",
       " 'leav': 297,\n",
       " 'emwazi': 298,\n",
       " 'school': 299,\n",
       " 'wit': 300,\n",
       " 'reveal': 301,\n",
       " 'run': 302,\n",
       " 'execut': 303,\n",
       " 'so': 304,\n",
       " 'appar': 305,\n",
       " 'organ': 306,\n",
       " 'mosul': 307,\n",
       " 'front': 308,\n",
       " 'face': 309,\n",
       " 'past': 310,\n",
       " 'youtub': 311,\n",
       " 'spider': 312,\n",
       " 'came': 313,\n",
       " 'after': 314,\n",
       " 'base': 315,\n",
       " 'star': 316,\n",
       " 'you': 317,\n",
       " 'parliament': 318,\n",
       " 'terror': 319,\n",
       " 'charg': 320,\n",
       " 'capit': 321,\n",
       " 'tell': 322,\n",
       " 'might': 323,\n",
       " 'give': 324,\n",
       " 'london': 325,\n",
       " 'depart': 326,\n",
       " 'bodi': 327,\n",
       " 'yet': 328,\n",
       " 'nigeria': 329,\n",
       " 'incid': 330,\n",
       " 'price': 331,\n",
       " 'detail': 332,\n",
       " 'hold': 333,\n",
       " 'reach': 334,\n",
       " 'real': 335,\n",
       " 'good': 336,\n",
       " 'agenc': 337,\n",
       " 'anim': 338,\n",
       " 'travel': 339,\n",
       " 'aid': 340,\n",
       " 'actual': 341,\n",
       " 'close': 342,\n",
       " 'suggest': 343,\n",
       " 'event': 344,\n",
       " 'whether': 345,\n",
       " 'nigerian': 346,\n",
       " 'steve': 347,\n",
       " 'hope': 348,\n",
       " 'away': 349,\n",
       " 'deni': 350,\n",
       " 'hour': 351,\n",
       " 'boy': 352,\n",
       " 'seem': 353,\n",
       " 'medic': 354,\n",
       " 'gold': 355,\n",
       " 'no': 356,\n",
       " 'wood': 357,\n",
       " 'power': 358,\n",
       " 'allegedli': 359,\n",
       " 'earli': 360,\n",
       " 'got': 361,\n",
       " 'car': 362,\n",
       " 'south': 363,\n",
       " 'at': 364,\n",
       " 'read': 365,\n",
       " 'question': 366,\n",
       " 'target': 367,\n",
       " 'support': 368,\n",
       " 'thursday': 369,\n",
       " 'current': 370,\n",
       " 'washington': 371,\n",
       " 'expert': 372,\n",
       " 'friday': 373,\n",
       " 'wrote': 374,\n",
       " 'prison': 375,\n",
       " 'devic': 376,\n",
       " 'tv': 377,\n",
       " 'lot': 378,\n",
       " 'other': 379,\n",
       " 'rosenberg': 380,\n",
       " 'iphon': 381,\n",
       " 'dog': 382,\n",
       " 'women': 383,\n",
       " 'four': 384,\n",
       " 'realli': 385,\n",
       " 'custom': 386,\n",
       " 'west': 387,\n",
       " 'jongun': 388,\n",
       " 'decid': 389,\n",
       " 'given': 390,\n",
       " 'mark': 391,\n",
       " 'meteorit': 392,\n",
       " 'when': 393,\n",
       " 'remov': 394,\n",
       " 'internet': 395,\n",
       " 'alreadi': 396,\n",
       " 'murder': 397,\n",
       " 'hoax': 398,\n",
       " 'big': 399,\n",
       " 'men': 400,\n",
       " 'interview': 401,\n",
       " 'meet': 402,\n",
       " 'describ': 403,\n",
       " 'resid': 404,\n",
       " 'doctor': 405,\n",
       " 'newspap': 406,\n",
       " 'airport': 407,\n",
       " 'children': 408,\n",
       " 'bomb': 409,\n",
       " 'lead': 410,\n",
       " 'bale': 411,\n",
       " 'for': 412,\n",
       " 'young': 413,\n",
       " 'contact': 414,\n",
       " 'august': 415,\n",
       " 'hi': 416,\n",
       " 'jihadi': 417,\n",
       " 'larg': 418,\n",
       " 'ceasefir': 419,\n",
       " 'septemb': 420,\n",
       " 'to': 421,\n",
       " 'origin': 422,\n",
       " 'featur': 423,\n",
       " 'late': 424,\n",
       " 'page': 425,\n",
       " 'worker': 426,\n",
       " 'while': 427,\n",
       " 'respons': 428,\n",
       " 'true': 429,\n",
       " 'caught': 430,\n",
       " 'mean': 431,\n",
       " 'fake': 432,\n",
       " 'canadian': 433,\n",
       " 'becom': 434,\n",
       " 'law': 435,\n",
       " 'wife': 436,\n",
       " 'attempt': 437,\n",
       " 'despit': 438,\n",
       " 'brother': 439,\n",
       " 'sunday': 440,\n",
       " 'texa': 441,\n",
       " 'morn': 442,\n",
       " 'love': 443,\n",
       " 'whose': 444,\n",
       " 'outsid': 445,\n",
       " 'an': 446,\n",
       " 'david': 447,\n",
       " 'gener': 448,\n",
       " 'jihadist': 449,\n",
       " 'extremist': 450,\n",
       " 'director': 451,\n",
       " 'provid': 452,\n",
       " 'food': 453,\n",
       " 'concern': 454,\n",
       " 'major': 455,\n",
       " 'among': 456,\n",
       " 'mother': 457,\n",
       " 'black': 458,\n",
       " 'marijuana': 459,\n",
       " 'without': 460,\n",
       " 'parent': 461,\n",
       " 'hear': 462,\n",
       " 'clear': 463,\n",
       " 'cover': 464,\n",
       " 'associ': 465,\n",
       " 'amazon': 466,\n",
       " 'immedi': 467,\n",
       " 'small': 468,\n",
       " 'box': 469,\n",
       " 'train': 470,\n",
       " 'victim': 471,\n",
       " 'test': 472,\n",
       " 'jong': 473,\n",
       " 'app': 474,\n",
       " 'pope': 475,\n",
       " 'drop': 476,\n",
       " 'anyon': 477,\n",
       " 'product': 478,\n",
       " 'commun': 479,\n",
       " 'keep': 480,\n",
       " 'via': 481,\n",
       " 'banksi': 482,\n",
       " 'began': 483,\n",
       " 'ottawa': 484,\n",
       " 'arm': 485,\n",
       " 'far': 486,\n",
       " 'deal': 487,\n",
       " 'threat': 488,\n",
       " 'prime': 489,\n",
       " 'high': 490,\n",
       " 'authent': 491,\n",
       " 'join': 492,\n",
       " 'sound': 493,\n",
       " 'smith': 494,\n",
       " 'note': 495,\n",
       " 'kobani': 496,\n",
       " 'secret': 497,\n",
       " 'wear': 498,\n",
       " 'saturday': 499,\n",
       " 'human': 500,\n",
       " 'creat': 501,\n",
       " 'paus': 502,\n",
       " 'daughter': 503,\n",
       " 'sure': 504,\n",
       " 'free': 505,\n",
       " 'problem': 506,\n",
       " 'hunter': 507,\n",
       " 'abu': 508,\n",
       " 'role': 509,\n",
       " 'tweet': 510,\n",
       " 'ground': 511,\n",
       " 'final': 512,\n",
       " 'center': 513,\n",
       " 'captiv': 514,\n",
       " 'edit': 515,\n",
       " 'ferguson': 516,\n",
       " 'receiv': 517,\n",
       " 'phone': 518,\n",
       " 'guard': 519,\n",
       " 'littl': 520,\n",
       " 'child': 521,\n",
       " 'gave': 522,\n",
       " 'ever': 523,\n",
       " 'abduct': 524,\n",
       " 'isil': 525,\n",
       " 'albaghdadi': 526,\n",
       " 'updat': 527,\n",
       " 'money': 528,\n",
       " 'america': 529,\n",
       " 'pass': 530,\n",
       " 'activ': 531,\n",
       " 'chief': 532,\n",
       " 'armi': 533,\n",
       " 'five': 534,\n",
       " 'sell': 535,\n",
       " 'christian': 536,\n",
       " 'tour': 537,\n",
       " 'western': 538,\n",
       " 'visit': 539,\n",
       " 'fear': 540,\n",
       " 'vehicl': 541,\n",
       " 'foreign': 542,\n",
       " 'suffer': 543,\n",
       " 'polici': 544,\n",
       " 'direct': 545,\n",
       " 'instead': 546,\n",
       " 'develop': 547,\n",
       " 'posit': 548,\n",
       " 'walk': 549,\n",
       " 'experi': 550,\n",
       " 'old': 551,\n",
       " 'discuss': 552,\n",
       " 'verifi': 553,\n",
       " 'minist': 554,\n",
       " 'muslim': 555,\n",
       " 'parti': 556,\n",
       " 'stand': 557,\n",
       " 'due': 558,\n",
       " 'northern': 559,\n",
       " 'independ': 560,\n",
       " 'version': 561,\n",
       " 'consid': 562,\n",
       " 'manag': 563,\n",
       " 'outlet': 564,\n",
       " 'date': 565,\n",
       " 'addit': 566,\n",
       " 'feel': 567,\n",
       " 'enough': 568,\n",
       " 'actor': 569,\n",
       " 'drug': 570,\n",
       " 'moham': 571,\n",
       " 'full': 572,\n",
       " 'quot': 573,\n",
       " 'import': 574,\n",
       " 'skin': 575,\n",
       " 'decis': 576,\n",
       " 'negoti': 577,\n",
       " 'sister': 578,\n",
       " 'franci': 579,\n",
       " 'probabl': 580,\n",
       " 'dozen': 581,\n",
       " 'sign': 582,\n",
       " 'condit': 583,\n",
       " 'ministri': 584,\n",
       " 'abl': 585,\n",
       " 'studi': 586,\n",
       " 'shock': 587,\n",
       " 'although': 588,\n",
       " 'rais': 589,\n",
       " 'comcast': 590,\n",
       " 'model': 591,\n",
       " 'paul': 592,\n",
       " 'un': 593,\n",
       " 'violenc': 594,\n",
       " 'emerg': 595,\n",
       " 'cite': 596,\n",
       " 'senior': 597,\n",
       " 'macbook': 598,\n",
       " 'action': 599,\n",
       " 'reason': 600,\n",
       " 'ident': 601,\n",
       " 'fli': 602,\n",
       " 'all': 603,\n",
       " 'evid': 604,\n",
       " 'saw': 605,\n",
       " 'minut': 606,\n",
       " 'memori': 607,\n",
       " 'almost': 608,\n",
       " 'speak': 609,\n",
       " 'fbi': 610,\n",
       " 'de': 611,\n",
       " 'with': 612,\n",
       " 'heart': 613,\n",
       " 'act': 614,\n",
       " 'libya': 615,\n",
       " 'kind': 616,\n",
       " 'toward': 617,\n",
       " 'agent': 618,\n",
       " 'who': 619,\n",
       " 'along': 620,\n",
       " 'now': 621,\n",
       " 'confer': 622,\n",
       " 'publish': 623,\n",
       " 'centr': 624,\n",
       " 'thousand': 625,\n",
       " 'seiz': 626,\n",
       " 'homeless': 627,\n",
       " 'success': 628,\n",
       " 'let': 629,\n",
       " 'involv': 630,\n",
       " 'sotloff': 631,\n",
       " 'movi': 632,\n",
       " 'behind': 633,\n",
       " 'lin': 634,\n",
       " 'al': 635,\n",
       " 'everi': 636,\n",
       " 'some': 637,\n",
       " 'repres': 638,\n",
       " 'soon': 639,\n",
       " 'surpris': 640,\n",
       " 'dont': 641,\n",
       " 'spread': 642,\n",
       " 'cook': 643,\n",
       " 'rat': 644,\n",
       " 'employe': 645,\n",
       " 'mask': 646,\n",
       " 'differ': 647,\n",
       " 'region': 648,\n",
       " 'view': 649,\n",
       " 'attorney': 650,\n",
       " 'th': 651,\n",
       " 'threaten': 652,\n",
       " 'blumenth': 653,\n",
       " 'noth': 654,\n",
       " 'vogu': 655,\n",
       " 'mass': 656,\n",
       " 'relat': 657,\n",
       " 'islamist': 658,\n",
       " 'age': 659,\n",
       " 'plane': 660,\n",
       " 'scene': 661,\n",
       " 'water': 662,\n",
       " 'situat': 663,\n",
       " 'novemb': 664,\n",
       " 'april': 665,\n",
       " 'treat': 666,\n",
       " 'saudi': 667,\n",
       " 'what': 668,\n",
       " 'locat': 669,\n",
       " 'specul': 670,\n",
       " 'disappear': 671,\n",
       " 'schoolgirl': 672,\n",
       " 'indic': 673,\n",
       " 'rule': 674,\n",
       " 'determin': 675,\n",
       " 'link': 676,\n",
       " 'not': 677,\n",
       " 'middl': 678,\n",
       " 'campaign': 679,\n",
       " 'critic': 680,\n",
       " 'design': 681,\n",
       " 'document': 682,\n",
       " 'gang': 683,\n",
       " 'figur': 684,\n",
       " 'warn': 685,\n",
       " 'cut': 686,\n",
       " 'univers': 687,\n",
       " 'allow': 688,\n",
       " 'done': 689,\n",
       " 'march': 690,\n",
       " 'previous': 691,\n",
       " 'wright': 692,\n",
       " 'initi': 693,\n",
       " 'gun': 694,\n",
       " 'birth': 695,\n",
       " 'babi': 696,\n",
       " 'moment': 697,\n",
       " 'st': 698,\n",
       " 'email': 699,\n",
       " 'network': 700,\n",
       " 'mexico': 701,\n",
       " 'station': 702,\n",
       " 'word': 703,\n",
       " 'more': 704,\n",
       " 'detain': 705,\n",
       " 'didnt': 706,\n",
       " 'complet': 707,\n",
       " 'market': 708,\n",
       " 'east': 709,\n",
       " 'arriv': 710,\n",
       " 'staff': 711,\n",
       " 'busi': 712,\n",
       " 'wonder': 713,\n",
       " 'citizen': 714,\n",
       " 'januari': 715,\n",
       " 'top': 716,\n",
       " 'spice': 717,\n",
       " 'restaur': 718,\n",
       " 'cost': 719,\n",
       " 'apart': 720,\n",
       " 'patient': 721,\n",
       " 'rapper': 722,\n",
       " 'fall': 723,\n",
       " 'uk': 724,\n",
       " 'someon': 725,\n",
       " 'crater': 726,\n",
       " 'discov': 727,\n",
       " 'viru': 728,\n",
       " 'analyst': 729,\n",
       " 'johnson': 730,\n",
       " 'stolen': 731,\n",
       " 'respond': 732,\n",
       " 'entir': 733,\n",
       " 'doubt': 734,\n",
       " 'line': 735,\n",
       " 'result': 736,\n",
       " 'spoke': 737,\n",
       " 'interest': 738,\n",
       " 'crime': 739,\n",
       " 'crimin': 740,\n",
       " 'inch': 741,\n",
       " 'trip': 742,\n",
       " 'within': 743,\n",
       " 'pull': 744,\n",
       " 'must': 745,\n",
       " 'impact': 746,\n",
       " 'tape': 747,\n",
       " 'bbc': 748,\n",
       " 'africa': 749,\n",
       " 'key': 750,\n",
       " 'pentagon': 751,\n",
       " 'weekend': 752,\n",
       " 'baghdadi': 753,\n",
       " 'list': 754,\n",
       " 'explain': 755,\n",
       " 'thank': 756,\n",
       " 'declar': 757,\n",
       " 'led': 758,\n",
       " 'earth': 759,\n",
       " 'enter': 760,\n",
       " 'king': 761,\n",
       " 'serv': 762,\n",
       " 'side': 763,\n",
       " 'castro': 764,\n",
       " 'break': 765,\n",
       " 'william': 766,\n",
       " 'diseas': 767,\n",
       " 'team': 768,\n",
       " 'eat': 769,\n",
       " 'bari': 770,\n",
       " 'game': 771,\n",
       " 'protect': 772,\n",
       " 'book': 773,\n",
       " 'steven': 774,\n",
       " 'fals': 775,\n",
       " 'bring': 776,\n",
       " 'similar': 777,\n",
       " 'born': 778,\n",
       " 'stay': 779,\n",
       " 'cathol': 780,\n",
       " 'hain': 781,\n",
       " 'door': 782,\n",
       " 'court': 783,\n",
       " 'injuri': 784,\n",
       " 'write': 785,\n",
       " 'octob': 786,\n",
       " 'hundr': 787,\n",
       " 'ankl': 788,\n",
       " 'contain': 789,\n",
       " 'pumpkin': 790,\n",
       " 'pyongyang': 791,\n",
       " 'here': 792,\n",
       " 'everyth': 793,\n",
       " 'sex': 794,\n",
       " 'condom': 795,\n",
       " 'matter': 796,\n",
       " 'latest': 797,\n",
       " 'battl': 798,\n",
       " 'perform': 799,\n",
       " 'hill': 800,\n",
       " 'often': 801,\n",
       " 'best': 802,\n",
       " 'hbo': 803,\n",
       " 'quit': 804,\n",
       " 'justic': 805,\n",
       " 'channel': 806,\n",
       " 'scotland': 807,\n",
       " 'learn': 808,\n",
       " 'camera': 809,\n",
       " 'magazin': 810,\n",
       " 'pilot': 811,\n",
       " 'southern': 812,\n",
       " 'monitor': 813,\n",
       " 'godan': 814,\n",
       " 'check': 815,\n",
       " 'educ': 816,\n",
       " 'somalia': 817,\n",
       " 'everyon': 818,\n",
       " 'reuter': 819,\n",
       " 'room': 820,\n",
       " 'care': 821,\n",
       " 'footag': 822,\n",
       " 'great': 823,\n",
       " 'pm': 824,\n",
       " 'potenti': 825,\n",
       " 'wall': 826,\n",
       " 'vicker': 827,\n",
       " 'advanc': 828,\n",
       " 'cross': 829,\n",
       " 'safe': 830,\n",
       " 'central': 831,\n",
       " 'isra': 832,\n",
       " 'batmobil': 833,\n",
       " 'gain': 834,\n",
       " 'koban': 835,\n",
       " 'met': 836,\n",
       " 'viral': 837,\n",
       " 'peni': 838,\n",
       " 'space': 839,\n",
       " 'avail': 840,\n",
       " 'anyth': 841,\n",
       " 'garden': 842,\n",
       " 'spend': 843,\n",
       " 'address': 844,\n",
       " 'eye': 845,\n",
       " 'decemb': 846,\n",
       " 'priest': 847,\n",
       " 'femal': 848,\n",
       " 'jet': 849,\n",
       " 'becam': 850,\n",
       " 'exist': 851,\n",
       " 'sorkin': 852,\n",
       " 'spent': 853,\n",
       " 'quickli': 854,\n",
       " 'blog': 855,\n",
       " 'leadership': 856,\n",
       " 'journal': 857,\n",
       " 'protest': 858,\n",
       " 'begin': 859,\n",
       " 'spot': 860,\n",
       " 'english': 861,\n",
       " 'fail': 862,\n",
       " 'nearli': 863,\n",
       " 'wait': 864,\n",
       " 'civilian': 865,\n",
       " 'drive': 866,\n",
       " 'symptom': 867,\n",
       " 'aliv': 868,\n",
       " 'purport': 869,\n",
       " 'pay': 870,\n",
       " 'knew': 871,\n",
       " 'turkey': 872,\n",
       " 'burn': 873,\n",
       " 'lebanes': 874,\n",
       " 'main': 875,\n",
       " 'februari': 876,\n",
       " 'culkin': 877,\n",
       " 'accus': 878,\n",
       " 'vice': 879,\n",
       " 'total': 880,\n",
       " 'produc': 881,\n",
       " 'trade': 882,\n",
       " 'teenag': 883,\n",
       " 'common': 884,\n",
       " 'grave': 885,\n",
       " 'insurg': 886,\n",
       " 'lost': 887,\n",
       " 'conflict': 888,\n",
       " 'mention': 889,\n",
       " 'administr': 890,\n",
       " 'singl': 891,\n",
       " 'nbc': 892,\n",
       " 'institut': 893,\n",
       " 'buy': 894,\n",
       " 'effort': 895,\n",
       " 'conduct': 896,\n",
       " 'surgeri': 897,\n",
       " 'research': 898,\n",
       " 'step': 899,\n",
       " 'olsen': 900,\n",
       " 'felt': 901,\n",
       " 'less': 902,\n",
       " 'wintour': 903,\n",
       " 'televis': 904,\n",
       " 'save': 905,\n",
       " 'privat': 906,\n",
       " 'agre': 907,\n",
       " 'kurd': 908,\n",
       " 'josh': 909,\n",
       " 'bakr': 910,\n",
       " 'june': 911,\n",
       " 'mike': 912,\n",
       " 'zehafbibeau': 913,\n",
       " 'seri': 914,\n",
       " 'anonym': 915,\n",
       " 'teen': 916,\n",
       " 'popular': 917,\n",
       " 'fox': 918,\n",
       " 'boston': 919,\n",
       " 'brutal': 920,\n",
       " 'fan': 921,\n",
       " 'coalit': 922,\n",
       " 'belong': 923,\n",
       " 'natur': 924,\n",
       " 'pretti': 925,\n",
       " 'somer': 926,\n",
       " 'owner': 927,\n",
       " 'yesterday': 928,\n",
       " 'pick': 929,\n",
       " 'gunman': 930,\n",
       " 'circul': 931,\n",
       " 'screen': 932,\n",
       " 'shekau': 933,\n",
       " 'pga': 934,\n",
       " 'nearbi': 935,\n",
       " 'asteroid': 936,\n",
       " 'mile': 937,\n",
       " 'seven': 938,\n",
       " 'suppli': 939,\n",
       " 'file': 940,\n",
       " 'marri': 941,\n",
       " 'either': 942,\n",
       " 'contract': 943,\n",
       " 'express': 944,\n",
       " 'gone': 945,\n",
       " 'israel': 946,\n",
       " 'credibl': 947,\n",
       " 'mail': 948,\n",
       " 'duncan': 949,\n",
       " 'juli': 950,\n",
       " 'possess': 951,\n",
       " 'jordanian': 952,\n",
       " 'killer': 953,\n",
       " 'convert': 954,\n",
       " 'multipl': 955,\n",
       " 'demand': 956,\n",
       " 'clip': 957,\n",
       " 'taliban': 958,\n",
       " 'instagram': 959,\n",
       " 'idea': 960,\n",
       " 'sent': 961,\n",
       " 'sale': 962,\n",
       " 'program': 963,\n",
       " 'estim': 964,\n",
       " 'spokesperson': 965,\n",
       " 'ran': 966,\n",
       " 'blood': 967,\n",
       " 'cours': 968,\n",
       " 'o': 969,\n",
       " 'percent': 970,\n",
       " 'command': 971,\n",
       " 'china': 972,\n",
       " 'anna': 973,\n",
       " 'sold': 974,\n",
       " 'bit': 975,\n",
       " 'band': 976,\n",
       " 'im': 977,\n",
       " 'assault': 978,\n",
       " 'perhap': 979,\n",
       " 'doesnt': 980,\n",
       " 'sun': 981,\n",
       " 'then': 982,\n",
       " 'wish': 983,\n",
       " 'bank': 984,\n",
       " 'burrow': 985,\n",
       " 'add': 986,\n",
       " 'refer': 987,\n",
       " 'park': 988,\n",
       " 'phelp': 989,\n",
       " 'struggl': 990,\n",
       " 'letter': 991,\n",
       " 'patrol': 992,\n",
       " 'defens': 993,\n",
       " 'seriou': 994,\n",
       " 'alshabaab': 995,\n",
       " 'strong': 996,\n",
       " 'seek': 997,\n",
       " 'rep': 998,\n",
       " 'display': 999,\n",
       " 'web': 1000,\n",
       " ...}"
      ]
     },
     "execution_count": 49,
     "metadata": {},
     "output_type": "execute_result"
    }
   ],
   "source": [
    "words_to_index"
   ]
  },
  {
   "cell_type": "code",
   "execution_count": 17,
   "metadata": {
    "id": "mZ9RkYGbNZ-7"
   },
   "outputs": [],
   "source": [
    "def read_glove_vector(glove_vec):\n",
    "  with open(glove_vec, 'r', encoding='UTF-8') as f:\n",
    "    words = set()\n",
    "    word_to_vec_map = {}\n",
    "    for line in f:\n",
    "      w_line = line.split()\n",
    "      curr_word = w_line[0]\n",
    "      word_to_vec_map[curr_word] = np.array(w_line[1:], dtype=np.float64)\n",
    "  return word_to_vec_map"
   ]
  },
  {
   "cell_type": "code",
   "execution_count": 18,
   "metadata": {
    "id": "6P3--nJ_9J8R"
   },
   "outputs": [],
   "source": [
    "word_to_vec_map = read_glove_vector('glove.6B.100d.txt')"
   ]
  },
  {
   "cell_type": "code",
   "execution_count": 19,
   "metadata": {
    "id": "NwpHM4GM-eeU"
   },
   "outputs": [],
   "source": [
    "vocab_len = len(words_to_index)\n",
    "embed_vector_len = word_to_vec_map['moon'].shape[0]\n",
    "\n",
    "emb_matrix = np.zeros((vocab_len, embed_vector_len))\n",
    "\n",
    "for word, index in words_to_index.items():\n",
    "  embedding_vector = word_to_vec_map.get(word)\n",
    "  if embedding_vector is not None:\n",
    "    emb_matrix[index, :] = embedding_vector\n"
   ]
  },
  {
   "cell_type": "code",
   "execution_count": 20,
   "metadata": {
    "id": "nj1Ac1icOhm-"
   },
   "outputs": [
    {
     "data": {
      "text/plain": [
       "2900"
      ]
     },
     "execution_count": 20,
     "metadata": {},
     "output_type": "execute_result"
    }
   ],
   "source": [
    "count=[]\n",
    "def max_len(text):\n",
    "    count.append(len(text.split()))\n",
    "X_train_prep_combined['combined'].apply(max_len)\n",
    "max(count)"
   ]
  },
  {
   "cell_type": "code",
   "execution_count": 21,
   "metadata": {
    "id": "d15nX3f2OkDZ"
   },
   "outputs": [
    {
     "data": {
      "text/plain": [
       "array([[  264,    63,   318, ...,     0,     0,     0],\n",
       "       [ 2420,  2610,   120, ...,     0,     0,     0],\n",
       "       [ 1575,   926,    36, ...,     0,     0,     0],\n",
       "       ...,\n",
       "       [15336,  2028,  1776, ...,     0,     0,     0],\n",
       "       [ 4164,  4682,  2028, ...,     0,     0,     0],\n",
       "       [ 4164,  4682,  2028, ...,     0,     0,     0]])"
      ]
     },
     "execution_count": 21,
     "metadata": {},
     "output_type": "execute_result"
    }
   ],
   "source": [
    "from keras.utils import pad_sequences\n",
    "head = tokenizer.texts_to_sequences(X_train_prep_combined['combined'])\n",
    "head = pad_sequences(head, maxlen=max(count), padding='post')\n",
    "head"
   ]
  },
  {
   "cell_type": "code",
   "execution_count": 22,
   "metadata": {
    "id": "Kd4-HLZpZ8M1"
   },
   "outputs": [
    {
     "data": {
      "text/plain": [
       "(49972, 2900)"
      ]
     },
     "execution_count": 22,
     "metadata": {},
     "output_type": "execute_result"
    }
   ],
   "source": [
    "head.shape"
   ]
  },
  {
   "cell_type": "code",
   "execution_count": 50,
   "metadata": {},
   "outputs": [
    {
     "data": {
      "text/plain": [
       "array([[ 0.      ,  0.      ,  0.      , ...,  0.      ,  0.      ,\n",
       "         0.      ],\n",
       "       [-0.026284,  0.017938, -0.50165 , ..., -0.8688  ,  0.94094 ,\n",
       "        -0.28815 ],\n",
       "       [-0.038194, -0.24487 ,  0.72812 , ..., -0.1459  ,  0.8278  ,\n",
       "         0.27062 ],\n",
       "       ...,\n",
       "       [ 0.      ,  0.      ,  0.      , ...,  0.      ,  0.      ,\n",
       "         0.      ],\n",
       "       [ 0.75891 ,  0.91641 , -0.98818 , ..., -0.03736 , -0.20129 ,\n",
       "         0.1903  ],\n",
       "       [ 0.      ,  0.      ,  0.      , ...,  0.      ,  0.      ,\n",
       "         0.      ]])"
      ]
     },
     "execution_count": 50,
     "metadata": {},
     "output_type": "execute_result"
    }
   ],
   "source": [
    "emb_matrix"
   ]
  },
  {
   "cell_type": "markdown",
   "metadata": {},
   "source": [
    "## CNN-LSTM Model"
   ]
  },
  {
   "cell_type": "code",
   "execution_count": 23,
   "metadata": {
    "id": "IBuKxnO8_7-7"
   },
   "outputs": [],
   "source": [
    "from keras.models import Sequential, Model\n",
    "from keras.layers import Dense, Dropout, Activation, Flatten, Embedding, Input, Lambda, LSTM, Bidirectional\n",
    "from keras.layers.convolutional import Conv1D\n",
    "from keras.layers.pooling import MaxPooling1D\n",
    "from keras.layers import concatenate"
   ]
  },
  {
   "cell_type": "code",
   "execution_count": 24,
   "metadata": {},
   "outputs": [],
   "source": [
    "train_head = tokenizer.texts_to_sequences(train_data['new_headline'])\n",
    "train_head = pad_sequences(train_head, maxlen=30, padding='post')\n",
    "train_body = tokenizer.texts_to_sequences(train_data['new_articlebody'])\n",
    "train_body = pad_sequences(train_body, maxlen=500, padding='post')\n",
    "test_head = tokenizer.texts_to_sequences(test_data['new_Headline'])\n",
    "test_head = pad_sequences(test_head, maxlen=30, padding='post')\n",
    "test_body = tokenizer.texts_to_sequences(test_data['new_articlebody'])\n",
    "test_body = pad_sequences(test_body, maxlen=500, padding='post')"
   ]
  },
  {
   "cell_type": "code",
   "execution_count": 25,
   "metadata": {},
   "outputs": [
    {
     "data": {
      "text/plain": [
       "array([[  264,    63,   318, ...,     0,     0,     0],\n",
       "       [ 2420,  2610,   120, ...,     0,     0,     0],\n",
       "       [ 1575,   926,    36, ...,     0,     0,     0],\n",
       "       ...,\n",
       "       [15336,  2028,  1776, ...,     0,     0,     0],\n",
       "       [ 4164,  4682,  2028, ...,     0,     0,     0],\n",
       "       [ 4164,  4682,  2028, ...,     0,     0,     0]])"
      ]
     },
     "execution_count": 25,
     "metadata": {},
     "output_type": "execute_result"
    }
   ],
   "source": [
    "train_head"
   ]
  },
  {
   "cell_type": "code",
   "execution_count": 26,
   "metadata": {},
   "outputs": [
    {
     "name": "stdout",
     "output_type": "stream",
     "text": [
      "Model: \"model\"\n",
      "__________________________________________________________________________________________________\n",
      " Layer (type)                   Output Shape         Param #     Connected to                     \n",
      "==================================================================================================\n",
      " head_input (InputLayer)        [(None, 30)]         0           []                               \n",
      "                                                                                                  \n",
      " body_input (InputLayer)        [(None, 500)]        0           []                               \n",
      "                                                                                                  \n",
      " embedding (Embedding)          multiple             4042300     ['head_input[0][0]',             \n",
      "                                                                  'body_input[0][0]']             \n",
      "                                                                                                  \n",
      " conv1 (Conv1D)                 (None, 26, 64)       32064       ['embedding[0][0]']              \n",
      "                                                                                                  \n",
      " conv2 (Conv1D)                 (None, 496, 64)      32064       ['embedding[1][0]']              \n",
      "                                                                                                  \n",
      " pool3 (MaxPooling1D)           multiple             0           ['conv1[0][0]',                  \n",
      "                                                                  'conv2[0][0]']                  \n",
      "                                                                                                  \n",
      " flatten (Flatten)              (None, 768)          0           ['pool3[0][0]']                  \n",
      "                                                                                                  \n",
      " flatten_1 (Flatten)            (None, 15808)        0           ['pool3[1][0]']                  \n",
      "                                                                                                  \n",
      " concatenate (Concatenate)      (None, 16576)        0           ['flatten[0][0]',                \n",
      "                                                                  'flatten_1[0][0]']              \n",
      "                                                                                                  \n",
      " reshape (Reshape)              (None, 1, 16576)     0           ['concatenate[0][0]']            \n",
      "                                                                                                  \n",
      " lstm (LSTM)                    (None, 100)          6670800     ['reshape[0][0]']                \n",
      "                                                                                                  \n",
      " dense (Dense)                  (None, 100)          10100       ['lstm[0][0]']                   \n",
      "                                                                                                  \n",
      " dropout (Dropout)              (None, 100)          0           ['dense[0][0]']                  \n",
      "                                                                                                  \n",
      " dense_1 (Dense)                (None, 4)            404         ['dropout[0][0]']                \n",
      "                                                                                                  \n",
      "==================================================================================================\n",
      "Total params: 10,787,732\n",
      "Trainable params: 6,745,432\n",
      "Non-trainable params: 4,042,300\n",
      "__________________________________________________________________________________________________\n",
      "None\n"
     ]
    }
   ],
   "source": [
    "from keras.layers import Reshape\n",
    "head_input = Input(shape=(30,), dtype='int32', name='head_input')\n",
    "body_input = Input(shape=(500,), dtype='int32', name='body_input')\n",
    "embedding_layer = Embedding(len(words_to_index),100,weights=[emb_matrix],input_length=max(count),trainable=False)\n",
    "head_embed = embedding_layer(head_input)\n",
    "body_embed = embedding_layer(body_input)\n",
    "\n",
    "pool_1 = MaxPooling1D(pool_size=3, strides=2, name='pool3')\n",
    "conv_1 = Conv1D(64, 5, activation='relu', name='conv1')\n",
    "head_CNN = conv_1(head_embed)\n",
    "head_CNN = pool_1(head_CNN)\n",
    "head_CNN = Flatten()(head_CNN)\n",
    "conv_2 = Conv1D(64, 5, activation='relu', name='conv2')\n",
    "body_CNN = conv_2(body_embed)\n",
    "body_CNN = pool_1(body_CNN)\n",
    "body_CNN = Flatten()(body_CNN)\n",
    "conc = concatenate([head_CNN,body_CNN])\n",
    "\n",
    "lstm_input = Reshape((-1, conc.shape[1]))(conc)\n",
    "lstm = LSTM(100)(lstm_input)\n",
    "\n",
    "dense = Dense(100,activation='relu')(lstm)\n",
    "dense = Dropout(0.3)(dense)\n",
    "dense = Dense(4,activation='softmax')(dense)\n",
    "model = Model(inputs=[head_input,body_input], outputs=[dense])\n",
    "model.compile(optimizer='adam', loss='sparse_categorical_crossentropy',metrics=['acc'])\n",
    "print(model.summary())"
   ]
  },
  {
   "cell_type": "code",
   "execution_count": 27,
   "metadata": {
    "scrolled": true
   },
   "outputs": [
    {
     "name": "stdout",
     "output_type": "stream",
     "text": [
      "Epoch 1/4\n",
      "391/391 [==============================] - 258s 640ms/step - loss: 0.6416 - acc: 0.7755 - val_loss: 0.8001 - val_acc: 0.6980\n",
      "Epoch 2/4\n",
      "391/391 [==============================] - 234s 600ms/step - loss: 0.3536 - acc: 0.8675 - val_loss: 0.9112 - val_acc: 0.6828\n",
      "Epoch 3/4\n",
      "391/391 [==============================] - 235s 601ms/step - loss: 0.2420 - acc: 0.9073 - val_loss: 1.0257 - val_acc: 0.6561\n",
      "Epoch 4/4\n",
      "391/391 [==============================] - 233s 597ms/step - loss: 0.1740 - acc: 0.9334 - val_loss: 1.2287 - val_acc: 0.6880\n"
     ]
    },
    {
     "data": {
      "text/plain": [
       "<keras.callbacks.History at 0x2819321dee0>"
      ]
     },
     "execution_count": 27,
     "metadata": {},
     "output_type": "execute_result"
    }
   ],
   "source": [
    "model.fit([train_head,train_body],ytrain_prepdata,validation_data = ([test_head,test_body],ytest_prepdata),epochs=4, batch_size=128,verbose = True)"
   ]
  },
  {
   "cell_type": "code",
   "execution_count": 28,
   "metadata": {},
   "outputs": [
    {
     "name": "stdout",
     "output_type": "stream",
     "text": [
      "795/795 [==============================] - 41s 52ms/step - loss: 1.2287 - acc: 0.6880\n"
     ]
    },
    {
     "data": {
      "text/plain": [
       "[1.2286969423294067, 0.6880336999893188]"
      ]
     },
     "execution_count": 28,
     "metadata": {},
     "output_type": "execute_result"
    }
   ],
   "source": [
    "model.evaluate([test_head,test_body],ytest_prepdata)"
   ]
  },
  {
   "cell_type": "code",
   "execution_count": 29,
   "metadata": {},
   "outputs": [
    {
     "name": "stdout",
     "output_type": "stream",
     "text": [
      "795/795 [==============================] - 43s 53ms/step\n"
     ]
    }
   ],
   "source": [
    "y_pred = model.predict([test_head,test_body])"
   ]
  },
  {
   "cell_type": "code",
   "execution_count": 30,
   "metadata": {},
   "outputs": [
    {
     "name": "stdout",
     "output_type": "stream",
     "text": [
      "[0 0 0 ... 2 2 0]\n"
     ]
    }
   ],
   "source": [
    "labels = np.argmax(y_pred, axis=-1)    \n",
    "print(labels)"
   ]
  },
  {
   "cell_type": "code",
   "execution_count": 31,
   "metadata": {},
   "outputs": [
    {
     "data": {
      "text/plain": [
       "array([[15691,  1401,  1252,     5],\n",
       "       [ 1139,   501,   263,     0],\n",
       "       [ 2758,   416,  1289,     1],\n",
       "       [  489,   118,    86,     4]], dtype=int64)"
      ]
     },
     "execution_count": 31,
     "metadata": {},
     "output_type": "execute_result"
    }
   ],
   "source": [
    "from sklearn.metrics import confusion_matrix\n",
    "cm = confusion_matrix(ytest_prepdata,labels)\n",
    "cm"
   ]
  },
  {
   "cell_type": "code",
   "execution_count": 32,
   "metadata": {},
   "outputs": [
    {
     "data": {
      "text/plain": [
       "<AxesSubplot:>"
      ]
     },
     "execution_count": 32,
     "metadata": {},
     "output_type": "execute_result"
    },
    {
     "data": {
      "image/png": "[encoded data removed]",
      "text/plain": [
       "<Figure size 640x480 with 2 Axes>"
      ]
     },
     "metadata": {},
     "output_type": "display_data"
    }
   ],
   "source": [
    "import seaborn as sns\n",
    "sns.heatmap(cm, annot=True)"
   ]
  },
  {
   "cell_type": "code",
   "execution_count": 33,
   "metadata": {},
   "outputs": [
    {
     "data": {
      "text/plain": [
       "2900"
      ]
     },
     "execution_count": 33,
     "metadata": {},
     "output_type": "execute_result"
    }
   ],
   "source": [
    "pad_shape = max(count)\n",
    "pad_shape"
   ]
  },
  {
   "cell_type": "code",
   "execution_count": 53,
   "metadata": {},
   "outputs": [],
   "source": [
    "train_head1 = tokenizer.texts_to_sequences(train_data['new_headline'])\n",
    "train_head1 = pad_sequences(train_head, maxlen=pad_shape, padding='post')\n",
    "train_body1 = tokenizer.texts_to_sequences(train_data['new_articlebody'])\n",
    "train_body1 = pad_sequences(train_body, maxlen=pad_shape, padding='post')\n",
    "test_head1 = tokenizer.texts_to_sequences(test_data['new_Headline'])\n",
    "test_head1 = pad_sequences(test_head, maxlen=pad_shape, padding='post')\n",
    "test_body1 = tokenizer.texts_to_sequences(test_data['new_articlebody'])\n",
    "test_body1 = pad_sequences(test_body, maxlen=pad_shape, padding='post')"
   ]
  },
  {
   "cell_type": "code",
   "execution_count": 51,
   "metadata": {},
   "outputs": [],
   "source": [
    "from sklearn.feature_selection import chi2\n",
    "from sklearn.feature_selection import SelectKBest"
   ]
  },
  {
   "cell_type": "code",
   "execution_count": 54,
   "metadata": {},
   "outputs": [],
   "source": [
    "test = SelectKBest(score_func=chi2, k=30)\n",
    "x_head = test.fit_transform(train_head1, ytrain_prepdata)"
   ]
  },
  {
   "cell_type": "code",
   "execution_count": 55,
   "metadata": {},
   "outputs": [],
   "source": [
    "test = SelectKBest(score_func=chi2, k=500)\n",
    "x_body = test.fit_transform(train_body1, ytrain_prepdata)"
   ]
  },
  {
   "cell_type": "code",
   "execution_count": 56,
   "metadata": {},
   "outputs": [],
   "source": [
    "test = SelectKBest(score_func=chi2, k=30)\n",
    "x_test_head = test.fit_transform(test_head1, ytest_prepdata)"
   ]
  },
  {
   "cell_type": "code",
   "execution_count": 57,
   "metadata": {},
   "outputs": [],
   "source": [
    "test = SelectKBest(score_func=chi2, k=500)\n",
    "x_test_body = test.fit_transform(test_body1, ytest_prepdata)"
   ]
  },
  {
   "cell_type": "code",
   "execution_count": 58,
   "metadata": {},
   "outputs": [
    {
     "name": "stdout",
     "output_type": "stream",
     "text": [
      "Model: \"model_5\"\n",
      "__________________________________________________________________________________________________\n",
      " Layer (type)                   Output Shape         Param #     Connected to                     \n",
      "==================================================================================================\n",
      " head_input (InputLayer)        [(None, 30)]         0           []                               \n",
      "                                                                                                  \n",
      " body_input (InputLayer)        [(None, 500)]        0           []                               \n",
      "                                                                                                  \n",
      " embedding_6 (Embedding)        multiple             4042300     ['head_input[0][0]',             \n",
      "                                                                  'body_input[0][0]']             \n",
      "                                                                                                  \n",
      " conv1 (Conv1D)                 (None, 26, 64)       32064       ['embedding_6[0][0]']            \n",
      "                                                                                                  \n",
      " conv2 (Conv1D)                 (None, 496, 64)      32064       ['embedding_6[1][0]']            \n",
      "                                                                                                  \n",
      " pool3 (MaxPooling1D)           multiple             0           ['conv1[0][0]',                  \n",
      "                                                                  'conv2[0][0]']                  \n",
      "                                                                                                  \n",
      " flatten_12 (Flatten)           (None, 768)          0           ['pool3[0][0]']                  \n",
      "                                                                                                  \n",
      " flatten_13 (Flatten)           (None, 15808)        0           ['pool3[1][0]']                  \n",
      "                                                                                                  \n",
      " concatenate_6 (Concatenate)    (None, 16576)        0           ['flatten_12[0][0]',             \n",
      "                                                                  'flatten_13[0][0]']             \n",
      "                                                                                                  \n",
      " reshape_6 (Reshape)            (None, 1, 16576)     0           ['concatenate_6[0][0]']          \n",
      "                                                                                                  \n",
      " lstm_6 (LSTM)                  (None, 100)          6670800     ['reshape_6[0][0]']              \n",
      "                                                                                                  \n",
      " dense_10 (Dense)               (None, 100)          10100       ['lstm_6[0][0]']                 \n",
      "                                                                                                  \n",
      " dropout_5 (Dropout)            (None, 100)          0           ['dense_10[0][0]']               \n",
      "                                                                                                  \n",
      " dense_11 (Dense)               (None, 4)            404         ['dropout_5[0][0]']              \n",
      "                                                                                                  \n",
      "==================================================================================================\n",
      "Total params: 10,787,732\n",
      "Trainable params: 6,745,432\n",
      "Non-trainable params: 4,042,300\n",
      "__________________________________________________________________________________________________\n",
      "None\n"
     ]
    }
   ],
   "source": [
    "from keras.layers import Reshape\n",
    "head_input = Input(shape=(30,), dtype='int32', name='head_input')\n",
    "body_input = Input(shape=(500,), dtype='int32', name='body_input')\n",
    "embedding_layer = Embedding(len(words_to_index),100,weights=[emb_matrix],input_length=max(count),trainable=False)\n",
    "head_embed = embedding_layer(head_input)\n",
    "body_embed = embedding_layer(body_input)\n",
    "pool_1 = MaxPooling1D(pool_size=3, strides=2, name='pool3')\n",
    "conv_1 = Conv1D(64, 5, activation='relu', name='conv1')\n",
    "head_CNN = conv_1(head_embed)\n",
    "head_CNN = pool_1(head_CNN)\n",
    "head_CNN = Flatten()(head_CNN)\n",
    "conv_2 = Conv1D(64, 5, activation='relu', name='conv2')\n",
    "body_CNN = conv_2(body_embed)\n",
    "body_CNN = pool_1(body_CNN)\n",
    "body_CNN = Flatten()(body_CNN)\n",
    "conc = concatenate([head_CNN,body_CNN])\n",
    "\n",
    "lstm_input = Reshape((-1, conc.shape[1]))(conc)\n",
    "lstm = LSTM(100)(lstm_input)\n",
    "\n",
    "dense = Dense(100,activation='relu')(lstm)\n",
    "dense = Dropout(0.3)(dense)\n",
    "dense = Dense(4,activation='softmax')(dense)\n",
    "model = Model(inputs=[head_input,body_input], outputs=[dense])\n",
    "model.compile(optimizer='adam', loss='sparse_categorical_crossentropy',metrics=['acc'])\n",
    "print(model.summary())"
   ]
  },
  {
   "cell_type": "code",
   "execution_count": 64,
   "metadata": {},
   "outputs": [
    {
     "name": "stdout",
     "output_type": "stream",
     "text": [
      "Epoch 1/4\n",
      "391/391 [==============================] - 250s 627ms/step - loss: 0.6691 - acc: 0.7689 - val_loss: 0.7991 - val_acc: 0.7139\n",
      "Epoch 2/4\n",
      "391/391 [==============================] - 171s 436ms/step - loss: 0.3802 - acc: 0.8586 - val_loss: 0.9178 - val_acc: 0.6632\n",
      "Epoch 3/4\n",
      "391/391 [==============================] - 125s 319ms/step - loss: 0.2604 - acc: 0.9001 - val_loss: 0.9806 - val_acc: 0.6697\n",
      "Epoch 4/4\n",
      "391/391 [==============================] - 132s 339ms/step - loss: 0.1916 - acc: 0.9260 - val_loss: 1.1447 - val_acc: 0.6531\n"
     ]
    },
    {
     "data": {
      "text/plain": [
       "<keras.callbacks.History at 0x28250c376a0>"
      ]
     },
     "execution_count": 64,
     "metadata": {},
     "output_type": "execute_result"
    }
   ],
   "source": [
    "model.fit([x_head,x_body],ytrain_prepdata,validation_data = ([x_test_head,x_test_body],ytest_prepdata),epochs=4, batch_size=128,verbose = True)"
   ]
  },
  {
   "cell_type": "code",
   "execution_count": 65,
   "metadata": {},
   "outputs": [
    {
     "data": {
      "text/plain": [
       "array([[15691,  1401,  1252,     5],\n",
       "       [ 1139,   501,   263,     0],\n",
       "       [ 2758,   416,  1289,     1],\n",
       "       [  489,   118,    86,     4]], dtype=int64)"
      ]
     },
     "execution_count": 65,
     "metadata": {},
     "output_type": "execute_result"
    }
   ],
   "source": [
    "cm"
   ]
  },
  {
   "cell_type": "code",
   "execution_count": 75,
   "metadata": {},
   "outputs": [],
   "source": [
    "from sklearn.decomposition import PCA\n",
    "pca1 = PCA(n_components = 30)\n",
    "pca1.fit(train_head1)"
   ]
  },
  {
   "cell_type": "code",
   "execution_count": 77,
   "metadata": {},
   "outputs": [
    {
     "data": {
      "text/plain": [
       "array([[   92.41469276, -1823.39775275,  2206.80085588, ...,\n",
       "            0.        ,     0.        ,     0.        ],\n",
       "       [  476.6757287 ,  2062.05270568,  -430.68122853, ...,\n",
       "            0.        ,     0.        ,     0.        ],\n",
       "       [ -181.67042903,   998.53168935,   609.11909756, ...,\n",
       "            0.        ,     0.        ,     0.        ],\n",
       "       ...,\n",
       "       [ 8980.22135286, 10741.76107284,  1047.030913  , ...,\n",
       "            0.        ,     0.        ,     0.        ],\n",
       "       [ 3980.97851074,  2162.18261461,  -387.82560944, ...,\n",
       "            0.        ,     0.        ,     0.        ],\n",
       "       [ 3980.97851074,  2162.18261461,  -387.82560944, ...,\n",
       "            0.        ,     0.        ,     0.        ]])"
      ]
     },
     "execution_count": 77,
     "metadata": {},
     "output_type": "execute_result"
    }
   ],
   "source": [
    "train_head2 = pca1.transform(train_head1)"
   ]
  },
  {
   "cell_type": "code",
   "execution_count": 78,
   "metadata": {},
   "outputs": [
    {
     "data": {
      "text/plain": [
       "array([[ 1038.92409867, -1151.04487904,  1892.09513375, ...,\n",
       "            0.        ,     0.        ,     0.        ],\n",
       "       [ 3310.54851173, -2472.69059494,  2124.37631834, ...,\n",
       "            0.        ,     0.        ,     0.        ],\n",
       "       [ -646.34516133,  -817.31102462, -1087.40484713, ...,\n",
       "            0.        ,     0.        ,     0.        ],\n",
       "       ...,\n",
       "       [-1020.28863416,   717.52338328,  -868.227715  , ...,\n",
       "            0.        ,     0.        ,     0.        ],\n",
       "       [-1161.87267129,  1762.6376266 ,    77.29660286, ...,\n",
       "            0.        ,     0.        ,     0.        ],\n",
       "       [ 5355.90201256, -5621.39990429, -7558.09040077, ...,\n",
       "            0.        ,     0.        ,     0.        ]])"
      ]
     },
     "execution_count": 78,
     "metadata": {},
     "output_type": "execute_result"
    }
   ],
   "source": [
    "test_head2 = pca1.transform(test_head1)"
   ]
  },
  {
   "cell_type": "code",
   "execution_count": 80,
   "metadata": {},
   "outputs": [
    {
     "data": {
      "text/plain": [
       "PCA(n_components=500)"
      ]
     },
     "execution_count": 80,
     "metadata": {},
     "output_type": "execute_result"
    }
   ],
   "source": [
    "pca2 = PCA(n_components = 500)\n",
    "pca2.fit(train_body1)"
   ]
  },
  {
   "cell_type": "code",
   "execution_count": 81,
   "metadata": {},
   "outputs": [],
   "source": [
    "train_body2 = pca2.transform(train_body1)"
   ]
  },
  {
   "cell_type": "code",
   "execution_count": 82,
   "metadata": {},
   "outputs": [],
   "source": [
    "test_body2 = pca2.transform(test_body1)"
   ]
  },
  {
   "cell_type": "code",
   "execution_count": null,
   "metadata": {},
   "outputs": [],
   "source": []
  }
 ],
 "metadata": {
  "colab": {
   "provenance": []
  },
  "kernelspec": {
   "display_name": "Python 3 (ipykernel)",
   "language": "python",
   "name": "python3"
  },
  "language_info": {
   "codemirror_mode": {
    "name": "ipython",
    "version": 3
   },
   "file_extension": ".py",
   "mimetype": "text/x-python",
   "name": "python",
   "nbconvert_exporter": "python",
   "pygments_lexer": "ipython3",
   "version": "3.9.13"
  }
 },
 "nbformat": 4,
 "nbformat_minor": 1
}
