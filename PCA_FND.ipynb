{
 "cells": [
  {
   "cell_type": "code",
   "execution_count": null,
   "id": "09ed2749",
   "metadata": {},
   "outputs": [],
   "source": [
    "import tensorflow as tf\n",
    "tf.compat.v1.enable_eager_execution()"
   ]
  },
  {
   "cell_type": "code",
   "execution_count": null,
   "id": "8f58d744",
   "metadata": {},
   "outputs": [],
   "source": [
    "import nltk\n",
    "nltk.download('stopwords')\n",
    "import pandas as pd\n",
    "import numpy as np\n",
    "import matplotlib.pyplot as plt"
   ]
  },
  {
   "cell_type": "code",
   "execution_count": null,
   "id": "38391246",
   "metadata": {},
   "outputs": [],
   "source": [
    "train_bodies=pd.read_csv('train_bodies.csv')\n",
    "train_stances=pd.read_csv('train_stances.csv')"
   ]
  },
  {
   "cell_type": "code",
   "execution_count": null,
   "id": "6de8f3f5",
   "metadata": {},
   "outputs": [],
   "source": [
    "train_data=pd.merge(train_bodies,train_stances,how='left',on='Body ID')"
   ]
  },
  {
   "cell_type": "code",
   "execution_count": null,
   "id": "3e3b9635",
   "metadata": {},
   "outputs": [],
   "source": [
    "test_stance = pd.read_csv('competition_test_stances.csv')\n",
    "test_body = pd.read_csv('test_bodies.csv')"
   ]
  },
  {
   "cell_type": "code",
   "execution_count": null,
   "id": "a4db1e26",
   "metadata": {},
   "outputs": [],
   "source": [
    "test_data  = pd.merge( test_body, test_stance,how='left', on='Body ID')"
   ]
  },
  {
   "cell_type": "code",
   "execution_count": null,
   "id": "8bbad196",
   "metadata": {},
   "outputs": [],
   "source": [
    "target={'unrelated':0, 'agree':1, 'discuss':2, 'disagree':3}\n",
    "train_data['Stance']=train_data['Stance'].map(target)"
   ]
  },
  {
   "cell_type": "code",
   "execution_count": null,
   "id": "1cc8a368",
   "metadata": {},
   "outputs": [],
   "source": [
    "import re\n",
    "from nltk.corpus import stopwords\n",
    "from nltk.tokenize import word_tokenize\n",
    "from nltk.stem.porter import PorterStemmer\n",
    "from nltk.tokenize import word_tokenize\n",
    "import string\n",
    "stop_words=set(stopwords.words('english'))\n",
    "stemmer = PorterStemmer()\n",
    "def preprocessing(text):\n",
    "    \n",
    "    text = text.rstrip(',|.|;|:|\\'|\\\"')\n",
    "    text = text.lstrip('\\'|\\\"')\n",
    "    #remove numbers\n",
    "    text=re.sub(r'\\d+','',text)\n",
    "    #punctuation removal\n",
    "    translator=str.maketrans('','',string.punctuation)\n",
    "    text=text.translate(translator)\n",
    "    text=\" \".join(text.split())\n",
    "    #stop words removal\n",
    "    word_tokens=word_tokenize(text)\n",
    "    filtered_text = [word for word in word_tokens if word not in stop_words]\n",
    "    text=\" \".join(filtered_text)\n",
    "    #stemming\n",
    "    word_tokens = word_tokenize(text)\n",
    "    stems = [stemmer.stem(word) for word in word_tokens]\n",
    "    text=\" \".join(stems)\n",
    "    #lowering the text\n",
    "    text=text.lower()\n",
    "    \n",
    "    return text"
   ]
  },
  {
   "cell_type": "code",
   "execution_count": null,
   "id": "5cf00ee2",
   "metadata": {},
   "outputs": [],
   "source": [
    "train_data['new_headline']=train_data['Headline'].map(preprocessing)\n",
    "train_data['new_articlebody']=train_data['articleBody'].map(preprocessing)\n",
    "test_data['new_Headline']=test_data['Headline'].map(preprocessing)\n",
    "test_data['new_articlebody']=test_data['articleBody'].map(preprocessing)"
   ]
  },
  {
   "cell_type": "code",
   "execution_count": null,
   "id": "1b83c76e",
   "metadata": {},
   "outputs": [],
   "source": [
    "test_data['Stance']=test_data['Stance'].map(target)"
   ]
  },
  {
   "cell_type": "code",
   "execution_count": null,
   "id": "f7ba5e6a",
   "metadata": {},
   "outputs": [],
   "source": [
    "#preprocessed train data\n",
    "xtrain_prepdata=train_data[['new_headline','new_articlebody']]\n",
    "ytrain_prepdata=train_data['Stance']\n",
    "#unpreprocessed train data\n",
    "xtrain_unprepdata=train_data[['Headline','articleBody']]\n",
    "ytrain_unprepdata=train_data['Stance']\n",
    "#preprocessed text  data\n",
    "xtest_prepdata=test_data[['new_Headline','new_articlebody']]\n",
    "ytest_prepdata=test_data['Stance']\n",
    "#unpreprocessed text data\n",
    "xtest_unprepdata=test_data[['Headline','articleBody']]\n",
    "ytest_unprepdata=test_data['Stance']"
   ]
  },
  {
   "cell_type": "code",
   "execution_count": null,
   "id": "9b67a5e1",
   "metadata": {},
   "outputs": [],
   "source": [
    "from tensorflow.keras.preprocessing.text import Tokenizer\n",
    "from nltk.tokenize import word_tokenize\n",
    "X_train_prep_combined = train_data['new_headline'] + train_data['new_articlebody']\n",
    "X_train_prep_combined = pd.DataFrame(X_train_prep_combined)\n",
    "X_train_prep_combined.columns = ['combined']\n",
    "tokenizer = Tokenizer(num_words=5000)\n",
    "tokenizer.fit_on_texts(X_train_prep_combined['combined'])\n",
    "words_to_index = tokenizer.word_index"
   ]
  },
  {
   "cell_type": "code",
   "execution_count": null,
   "id": "4c927a98",
   "metadata": {},
   "outputs": [],
   "source": [
    "tokens1=[]\n",
    "def tokens(text):\n",
    "    tokens=word_tokenize(text)\n",
    "    tokens1.append(tokens)\n",
    "train_data['new_headline'].apply(tokens)"
   ]
  },
  {
   "cell_type": "markdown",
   "id": "1dba13cc",
   "metadata": {},
   "source": [
    "## Using Word2Vec "
   ]
  },
  {
   "cell_type": "code",
   "execution_count": null,
   "id": "f3958300",
   "metadata": {},
   "outputs": [],
   "source": [
    "from gensim.models import Word2Vec\n",
    "\n",
    "# Preprocess and tokenize your text data\n",
    "sentences = tokens1\n",
    "\n",
    "# Train a Word2Vec model on the tokenized text data\n",
    "model = Word2Vec(sentences, min_count=1)\n",
    "\n",
    "# Get the embedding matrix\n",
    "embedding_matrix = model.wv.vectors"
   ]
  },
  {
   "cell_type": "markdown",
   "id": "41478e48",
   "metadata": {},
   "source": [
    "## Using Glove Embedding"
   ]
  },
  {
   "cell_type": "code",
   "execution_count": null,
   "id": "9a05a1ae",
   "metadata": {},
   "outputs": [],
   "source": [
    "def read_glove_vector(glove_vec):\n",
    "  with open(glove_vec, 'r', encoding='UTF-8') as f:\n",
    "    words = set()\n",
    "    word_to_vec_map = {}\n",
    "    for line in f:\n",
    "      w_line = line.split()\n",
    "      curr_word = w_line[0]\n",
    "      word_to_vec_map[curr_word] = np.array(w_line[1:], dtype=np.float64)\n",
    "  return word_to_vec_map"
   ]
  },
  {
   "cell_type": "code",
   "execution_count": null,
   "id": "3ce9686a",
   "metadata": {},
   "outputs": [],
   "source": [
    "word_to_vec_map = read_glove_vector('glove.6B.100d.txt')"
   ]
  },
  {
   "cell_type": "code",
   "execution_count": null,
   "id": "5691317b",
   "metadata": {},
   "outputs": [],
   "source": [
    "vocab_len = len(words_to_index)\n",
    "embed_vector_len = word_to_vec_map['moon'].shape[0]\n",
    "\n",
    "emb_matrix = np.zeros((vocab_len, embed_vector_len))\n",
    "\n",
    "for word, index in words_to_index.items():\n",
    "  embedding_vector = word_to_vec_map.get(word)\n",
    "  if embedding_vector is not None:\n",
    "    emb_matrix[index, :] = embedding_vector\n"
   ]
  },
  {
   "cell_type": "code",
   "execution_count": null,
   "id": "c67216fa",
   "metadata": {},
   "outputs": [],
   "source": [
    "X_test_prep_combined = test_data['new_Headline'] + test_data['new_articlebody']\n",
    "X_test_prep_combined = pd.DataFrame(X_test_prep_combined)\n",
    "X_test_prep_combined.columns = ['combined']"
   ]
  },
  {
   "cell_type": "code",
   "execution_count": null,
   "id": "cce77049",
   "metadata": {},
   "outputs": [],
   "source": [
    "train_head = tokenizer.texts_to_sequences(X_train_prep_combined['combined'])\n",
    "train_head = pad_sequences(train_head, maxlen=5000, padding='post')\n",
    "test_head = tokenizer.texts_to_sequences(X_test_prep_combined['combined'])\n",
    "test_head = pad_sequences(test_head, maxlen=5000, padding='post')"
   ]
  },
  {
   "cell_type": "markdown",
   "id": "97a0bbb7",
   "metadata": {},
   "source": [
    "## Using PCA"
   ]
  },
  {
   "cell_type": "code",
   "execution_count": null,
   "id": "0c094512",
   "metadata": {},
   "outputs": [],
   "source": [
    "from sklearn.decomposition import PCA\n",
    "pca = PCA(n_components=2240)\n",
    "temp = pca.fit_transform(train_head)"
   ]
  },
  {
   "cell_type": "code",
   "execution_count": null,
   "id": "d02809eb",
   "metadata": {},
   "outputs": [],
   "source": [
    "arr = pca.components_\n",
    "importance = abs(arr).max(axis=0)"
   ]
  },
  {
   "cell_type": "code",
   "execution_count": null,
   "id": "76b9f7e0",
   "metadata": {},
   "outputs": [],
   "source": [
    "train_x = train_head[:, importance.argsort()[::-1][:30]]"
   ]
  },
  {
   "cell_type": "code",
   "execution_count": null,
   "id": "5b66e6c7",
   "metadata": {},
   "outputs": [],
   "source": [
    "test_x = test_head[:,importance.argsort()[::-1][:30]]"
   ]
  },
  {
   "cell_type": "markdown",
   "id": "11ef1365",
   "metadata": {},
   "source": [
    "## CNN-LSTM Model"
   ]
  },
  {
   "cell_type": "code",
   "execution_count": null,
   "id": "eeb4c011",
   "metadata": {},
   "outputs": [],
   "source": [
    "from keras.models import Sequential, Model\n",
    "from keras.layers import Dense, Dropout, Activation, Flatten, Embedding, Input, Lambda, LSTM, Bidirectional\n",
    "from keras.layers.convolutional import Conv1D\n",
    "from keras.layers.pooling import MaxPooling1D\n",
    "from keras.layers import concatenate"
   ]
  },
  {
   "cell_type": "code",
   "execution_count": null,
   "id": "f0f57cca",
   "metadata": {},
   "outputs": [],
   "source": [
    "from tensorflow.keras.models import Model\n",
    "from tensorflow.keras.layers import *\n",
    "import tensorflow as tf\n",
    "\n",
    "\n",
    "# Build the model with the PCA-transformed data\n",
    "head_input = Input(shape=(2240,), dtype='int32', name='head_input')\n",
    "embedding_layer = Embedding(embedding_matrix.shape[0],100,weights=[embedding_matrix],input_length=max(count),trainable=False)\n",
    "head_embed = embedding_layer(head_input)\n",
    "head_embed = Dropout(0.2)(head_embed)\n",
    "\n",
    "pool_1 = MaxPooling1D(pool_size=3, strides=2, name='pool3')\n",
    "conv_1 = Conv1D(64, 5, activation='relu', name='conv1')\n",
    "head_CNN = conv_1(head_embed)\n",
    "head_CNN = Dropout(0.2)(head_CNN)\n",
    "head_CNN = pool_1(head_CNN)\n",
    "\n",
    "lstm = LSTM(100)(head_CNN)\n",
    "\n",
    "dense = Dense(4, activation='softmax')(lstm)\n",
    "\n",
    "model = Model(inputs=head_input, outputs=[dense])\n",
    "model.compile(optimizer='adam', loss='sparse_categorical_crossentropy', metrics=['acc'])\n",
    "\n",
    "model.summary()"
   ]
  },
  {
   "cell_type": "code",
   "execution_count": null,
   "id": "32a65685",
   "metadata": {},
   "outputs": [],
   "source": [
    "pca_model = model.fit(train_x,ytrain_prepdata,validation_data = (test_x,ytest_prepdata),epochs=4, batch_size=32,verbose = True)"
   ]
  },
  {
   "cell_type": "code",
   "execution_count": null,
   "id": "f7344435",
   "metadata": {},
   "outputs": [],
   "source": [
    "y_pred = pca_model.predict([test_head,test_body])"
   ]
  },
  {
   "cell_type": "code",
   "execution_count": null,
   "id": "7b3c8476",
   "metadata": {},
   "outputs": [],
   "source": [
    "labels = np.argmax(y_pred, axis=-1)    \n",
    "print(labels)"
   ]
  },
  {
   "cell_type": "code",
   "execution_count": null,
   "id": "f52e28ac",
   "metadata": {},
   "outputs": [],
   "source": [
    "from sklearn.metrics import confusion_matrix\n",
    "cm = confusion_matrix(ytest_prepdata,labels)\n",
    "cm"
   ]
  },
  {
   "cell_type": "code",
   "execution_count": null,
   "id": "af8b9533",
   "metadata": {},
   "outputs": [],
   "source": [
    "import seaborn as sns\n",
    "sns.heatmap(cm, annot=True)"
   ]
  },
  {
   "cell_type": "code",
   "execution_count": null,
   "id": "3a9a1274",
   "metadata": {},
   "outputs": [],
   "source": [
    "plt.plot(pca_model.history['val_acc'],label = 'val_accuracy')\n",
    "plt.plot(pca_model.history['acc'],label = 'accuracy')\n",
    "plt.xlabel('epochs')\n",
    "plt.ylabel('accuracy')\n",
    "plt.legend()\n",
    "plt.show()"
   ]
  },
  {
   "cell_type": "code",
   "execution_count": null,
   "id": "5637c4f6",
   "metadata": {},
   "outputs": [],
   "source": [
    "plt.plot(pca_model.history['val_acc'],label = 'val_accuracy')\n",
    "plt.plot(pca_model.history['acc'],label = 'accuracy')\n",
    "plt.xlabel('epochs')\n",
    "plt.ylabel('accuracy')\n",
    "plt.legend()\n",
    "plt.show()"
   ]
  }
 ],
 "metadata": {
  "kernelspec": {
   "display_name": "Python 3 (ipykernel)",
   "language": "python",
   "name": "python3"
  },
  "language_info": {
   "codemirror_mode": {
    "name": "ipython",
    "version": 3
   },
   "file_extension": ".py",
   "mimetype": "text/x-python",
   "name": "python",
   "nbconvert_exporter": "python",
   "pygments_lexer": "ipython3",
   "version": "3.9.13"
  }
 },
 "nbformat": 4,
 "nbformat_minor": 5
}
